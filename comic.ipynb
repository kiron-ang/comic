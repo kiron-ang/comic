{
  "nbformat": 4,
  "nbformat_minor": 0,
  "metadata": {
    "colab": {
      "provenance": [],
      "authorship_tag": "ABX9TyOcNSP4ARD/0M5ytX96tQHY",
      "include_colab_link": true
    },
    "kernelspec": {
      "name": "python3",
      "display_name": "Python 3"
    },
    "language_info": {
      "name": "python"
    }
  },
  "cells": [
    {
      "cell_type": "markdown",
      "metadata": {
        "id": "view-in-github",
        "colab_type": "text"
      },
      "source": [
        "<a href=\"https://colab.research.google.com/github/kiron-ang/comic/blob/main/comic.ipynb\" target=\"_parent\"><img src=\"https://colab.research.google.com/assets/colab-badge.svg\" alt=\"Open In Colab\"/></a>"
      ]
    },
    {
      "cell_type": "code",
      "source": [
        "!pip install reportlab"
      ],
      "metadata": {
        "colab": {
          "base_uri": "https://localhost:8080/"
        },
        "id": "wksyGl_Bcw6Z",
        "outputId": "4b272b02-9bce-4f86-b536-5c9cbbb83674"
      },
      "execution_count": 1,
      "outputs": [
        {
          "output_type": "stream",
          "name": "stdout",
          "text": [
            "Collecting reportlab\n",
            "  Downloading reportlab-4.3.1-py3-none-any.whl.metadata (1.7 kB)\n",
            "Requirement already satisfied: pillow>=9.0.0 in /usr/local/lib/python3.11/dist-packages (from reportlab) (11.1.0)\n",
            "Requirement already satisfied: chardet in /usr/local/lib/python3.11/dist-packages (from reportlab) (5.2.0)\n",
            "Downloading reportlab-4.3.1-py3-none-any.whl (1.9 MB)\n",
            "\u001b[2K   \u001b[90m━━━━━━━━━━━━━━━━━━━━━━━━━━━━━━━━━━━━━━━━\u001b[0m \u001b[32m1.9/1.9 MB\u001b[0m \u001b[31m20.9 MB/s\u001b[0m eta \u001b[36m0:00:00\u001b[0m\n",
            "\u001b[?25hInstalling collected packages: reportlab\n",
            "Successfully installed reportlab-4.3.1\n"
          ]
        }
      ]
    },
    {
      "cell_type": "code",
      "execution_count": 2,
      "metadata": {
        "id": "S2lrcT27cuGM"
      },
      "outputs": [],
      "source": [
        "from reportlab.pdfgen import canvas\n",
        "from reportlab.lib.pagesizes import letter\n",
        "import textwrap\n",
        "\n",
        "\n",
        "def draw_text(c, x, y, max_width, text, font=\"Helvetica\", fontsize=10, leading=12):\n",
        "    \"\"\"\n",
        "    Draws wrapped text inside a specified area.\n",
        "    \"\"\"\n",
        "    c.setFont(font, fontsize)\n",
        "    # Wrap text: adjust width (here 40 characters is an approximate value; tweak as needed)\n",
        "    wrapper = textwrap.TextWrapper(width=40)\n",
        "    lines = wrapper.wrap(text)\n",
        "    # Draw each line; decreasing y by the leading amount per line.\n",
        "    for i, line in enumerate(lines):\n",
        "        c.drawString(x, y - i * leading, line)\n",
        "\n",
        "def draw_panel1(c, x, y, width, height):\n",
        "    \"\"\"\n",
        "    Panel 1 drawing.\n",
        "    For this panel, we simulate a Texas-themed illustration:\n",
        "    a simple rectangle with bold \"TX\" to represent Texas.\n",
        "    \"\"\"\n",
        "    illustration_height = height * 2/3  # top 2/3 is for illustration\n",
        "    center_x = x + width / 2\n",
        "    # The illustration area is the upper part of the panel.\n",
        "    center_y = y + height - illustration_height / 2\n",
        "\n",
        "    # Draw a simple rectangle (simulating the outline of Texas, for example)\n",
        "    rect_width = width / 2\n",
        "    rect_height = illustration_height / 2\n",
        "    rect_x = center_x - rect_width / 2\n",
        "    rect_y = center_y - rect_height / 2\n",
        "    c.rect(rect_x, rect_y, rect_width, rect_height, stroke=1, fill=0)\n",
        "\n",
        "    # Write \"TX\" in bold inside the rectangle\n",
        "    c.setFont(\"Helvetica-Bold\", 24)\n",
        "    c.drawCentredString(center_x, center_y - 12, \"TX\")\n",
        "\n",
        "def draw_panel2(c, x, y, width, height):\n",
        "    \"\"\"\n",
        "    Panel 2 drawing.\n",
        "    In this panel the illustration represents data access—a computer screen\n",
        "    displaying a very basic bar chart.\n",
        "    \"\"\"\n",
        "    illustration_height = height * 2/3\n",
        "    # Define screen area (with some margin inside the panel)\n",
        "    screen_x = x + width * 0.1\n",
        "    screen_y = y + height - illustration_height + illustration_height * 0.1\n",
        "    screen_width = width * 0.8\n",
        "    screen_height = illustration_height * 0.8\n",
        "    c.rect(screen_x, screen_y, screen_width, screen_height, stroke=1, fill=0)\n",
        "\n",
        "    # Draw simple bar chart with 3 bars inside the screen\n",
        "    bar_width = screen_width / 6\n",
        "    for i in range(3):\n",
        "        # Each bar's height will vary (these are simple examples)\n",
        "        bar_height = screen_height * (0.3 + 0.2 * i)\n",
        "        bar_x = screen_x + (i + 1) * bar_width\n",
        "        bar_y = screen_y\n",
        "        c.rect(bar_x, bar_y, bar_width, bar_height, stroke=1, fill=1)\n",
        "\n",
        "def draw_panel3(c, x, y, width, height):\n",
        "    \"\"\"\n",
        "    Panel 3 drawing.\n",
        "    This panel illustrates a worried person (a simple caricature):\n",
        "    a circle for the head and a rectangle for the body.\n",
        "    \"\"\"\n",
        "    illustration_height = height * 2/3\n",
        "    center_x = x + width / 2\n",
        "    center_y = y + height - illustration_height / 2\n",
        "\n",
        "    # Head (a circle)\n",
        "    head_radius = illustration_height * 0.15\n",
        "    c.circle(center_x, center_y + head_radius, head_radius, stroke=1, fill=0)\n",
        "\n",
        "    # Body (a rectangle representing the torso)\n",
        "    body_width = head_radius * 2\n",
        "    body_height = illustration_height * 0.3\n",
        "    c.rect(center_x - body_width / 2, center_y - body_height, body_width, body_height, stroke=1, fill=0)\n",
        "\n",
        "def draw_panel4(c, x, y, width, height):\n",
        "    \"\"\"\n",
        "    Panel 4 drawing.\n",
        "    This panel shows a syringe (a simple drawing) as a call-to-action to vaccinate.\n",
        "    \"\"\"\n",
        "    illustration_height = height * 2/3\n",
        "    center_x = x + width / 2\n",
        "    center_y = y + height - illustration_height / 2\n",
        "\n",
        "    # Draw syringe barrel: a small rectangle representing the barrel of the syringe.\n",
        "    barrel_width = width * 0.1\n",
        "    barrel_height = illustration_height * 0.4\n",
        "    barrel_x = center_x - barrel_width / 2\n",
        "    barrel_y = center_y - barrel_height / 2\n",
        "    c.rect(barrel_x, barrel_y, barrel_width, barrel_height, stroke=1, fill=0)\n",
        "\n",
        "    # Draw the needle: a line extending upward from the barrel.\n",
        "    c.line(center_x, barrel_y + barrel_height, center_x, barrel_y + barrel_height + 20)\n",
        "    # Draw the plunger: a line extending downward from the bottom of the barrel.\n",
        "    c.line(center_x, barrel_y, center_x, barrel_y - 20)\n",
        "\n",
        "def draw_panel(c, x, y, width, height, text, illustration_draw_func):\n",
        "    \"\"\"\n",
        "    Draws an individual comic panel:\n",
        "    - A border for the panel.\n",
        "    - An illustration in the top 2/3 (using the provided drawing function).\n",
        "    - Wrapped text in the bottom 1/3.\n",
        "    \"\"\"\n",
        "    # Draw outer panel border\n",
        "    c.rect(x, y, width, height, stroke=1, fill=0)\n",
        "\n",
        "    # Draw the illustration using the passed function\n",
        "    illustration_draw_func(c, x, y, width, height)\n",
        "\n",
        "    # Define text area (bottom third of the panel)\n",
        "    text_area_height = height / 3\n",
        "    text_x = x + 5  # slight horizontal margin\n",
        "    text_y = y + text_area_height - 15  # top line of text within the text area\n",
        "    draw_text(c, text_x, text_y, width - 10, text, fontsize=10)\n",
        "\n",
        "def create_comic_pdf(filename):\n",
        "    \"\"\"\n",
        "    Creates a letter-sized PDF with a 2x2 comic strip layout.\n",
        "    Each panel contains an illustration and a portion of the provided comic script.\n",
        "    \"\"\"\n",
        "    c = canvas.Canvas(filename, pagesize=letter)\n",
        "    page_width, page_height = letter\n",
        "\n",
        "    # Define margins and compute panel sizes.\n",
        "    margin = 36  # 0.5 inch margin\n",
        "    # Available width/height after margins:\n",
        "    available_width = page_width - 2 * margin\n",
        "    available_height = page_height - 2 * margin\n",
        "\n",
        "    panel_width = available_width / 2\n",
        "    panel_height = available_height / 2\n",
        "\n",
        "    # Define the text content for each panel from your script.\n",
        "    panel_texts = [\n",
        "        \"We currently have a measles outbreak in our wonderful state of Texas (https://dshs.texas.gov/news-alerts/measles-outbreak-2025).\",\n",
        "        \"In response, the Texas Department of State Health Services has made vaccine-related data more accessible than ever before. This data reveals that many children in Texas lack the MMR vaccine.\",\n",
        "        \"Texans' refusal to vaccinate their children is reflective of vaccine hesitancy generated by politically conservative views on healthcare.\",\n",
        "        \"Please vaccinate your children, because the Texas Department of State Health Services explains that 'almost everyone without immunity will get measles if exposed to the virus' and 'there is no specific treatment to cure measles' (https://dshs.texas.gov/measles/measles-frequently-asked-questions).\"\n",
        "    ]\n",
        "\n",
        "    # The panels are arranged in a 2x2 grid:\n",
        "    # Top left panel\n",
        "    draw_panel(c, margin, margin + panel_height, panel_width, panel_height, panel_texts[0], draw_panel1)\n",
        "    # Top right panel\n",
        "    draw_panel(c, margin + panel_width, margin + panel_height, panel_width, panel_height, panel_texts[1], draw_panel2)\n",
        "    # Bottom left panel\n",
        "    draw_panel(c, margin, margin, panel_width, panel_height, panel_texts[2], draw_panel3)\n",
        "    # Bottom right panel\n",
        "    draw_panel(c, margin + panel_width, margin, panel_width, panel_height, panel_texts[3], draw_panel4)\n",
        "\n",
        "    c.showPage()\n",
        "    c.save()\n",
        "\n",
        "\n",
        "if __name__ == \"__main__\":\n",
        "    create_comic_pdf(\"comic.pdf\")"
      ]
    },
    {
      "cell_type": "code",
      "source": [
        "import base64\n",
        "from IPython.display import HTML, display\n",
        "\n",
        "with open('comic.pdf', \"rb\") as f:\n",
        "    pdf = f.read()\n",
        "\n",
        "pdf_base64 = base64.b64encode(pdf).decode(\"utf-8\")\n",
        "\n",
        "html = f'<embed src=\"data:application/pdf;base64,{pdf_base64}\" width=\"800\" height=\"600\" type=\"application/pdf\">'\n",
        "display(HTML(html))\n"
      ],
      "metadata": {
        "colab": {
          "base_uri": "https://localhost:8080/",
          "height": 620
        },
        "id": "x4ljPPqEfAh6",
        "outputId": "71a4aa35-8946-43f5-e981-f8350396e82e"
      },
      "execution_count": 3,
      "outputs": [
        {
          "output_type": "display_data",
          "data": {
            "text/plain": [
              "<IPython.core.display.HTML object>"
            ],
            "text/html": [
              "<embed src=\"data:application/pdf;base64,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\" width=\"800\" height=\"600\" type=\"application/pdf\">"
            ]
          },
          "metadata": {}
        }
      ]
    }
  ]
}